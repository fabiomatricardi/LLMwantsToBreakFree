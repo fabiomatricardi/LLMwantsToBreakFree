{
  "nbformat": 4,
  "nbformat_minor": 0,
  "metadata": {
    "colab": {
      "provenance": [],
      "collapsed_sections": [
        "OuE6UWGs3yco"
      ],
      "authorship_tag": "ABX9TyNKDzBZDCkBzlYJALVee1gz",
      "include_colab_link": true
    },
    "kernelspec": {
      "name": "python3",
      "display_name": "Python 3"
    },
    "language_info": {
      "name": "python"
    }
  },
  "cells": [
    {
      "cell_type": "markdown",
      "metadata": {
        "id": "view-in-github",
        "colab_type": "text"
      },
      "source": [
        "<a href=\"https://colab.research.google.com/github/fabiomatricardi/LLMwantsToBreakFree/blob/main/Ask_and_you_shall_receive_Orca_mini_v3_7b.ipynb\" target=\"_parent\"><img src=\"https://colab.research.google.com/assets/colab-badge.svg\" alt=\"Open In Colab\"/></a>"
      ]
    },
    {
      "cell_type": "code",
      "execution_count": 1,
      "metadata": {
        "id": "R4IhZMjls96U"
      },
      "outputs": [],
      "source": [
        "%%capture\n",
        "!pip install ctransformers>=0.2.24\n",
        "!pip install rich\n",
        "!pip install transformers"
      ]
    },
    {
      "cell_type": "code",
      "source": [
        "!wget https://huggingface.co/TheBloke/orca_mini_v3_7B-GGUF/resolve/main/orca_mini_v3_7b.Q4_K_M.gguf"
      ],
      "metadata": {
        "id": "kZ8nmOwCtHZc"
      },
      "execution_count": null,
      "outputs": []
    },
    {
      "cell_type": "code",
      "source": [
        "from ctransformers import AutoModelForCausalLM, AutoConfig, Config\n",
        "from rich import print    #this will print nicely the results\n",
        "conf = AutoConfig(Config(temperature=0.8, repetition_penalty=1.1, batch_size=52,\n",
        "                max_new_tokens=1024, context_length=1024))\n",
        "llm = AutoModelForCausalLM.from_pretrained(\"/content/orca_mini_v3_7b.Q4_K_M.gguf\",\n",
        "                                           model_type=\"llama\", config = conf)"
      ],
      "metadata": {
        "id": "puUbyPPpI5aD"
      },
      "execution_count": 1,
      "outputs": []
    },
    {
      "cell_type": "code",
      "source": [
        "prompt = \"Predict the impact of artificial intelligence on human learning. write the output in the form of a timeline.\"\n",
        "t_orca = f\"### System:\\n\\n### User:\\n{prompt}\\n\\n### Response:\\n\" #template\n",
        "result = llm(t_orca)  # we generate and store the result in a variable\n",
        "print(result) #print the result from the text-generation"
      ],
      "metadata": {
        "id": "KaGc8H9RgtzJ"
      },
      "execution_count": null,
      "outputs": []
    },
    {
      "cell_type": "code",
      "source": [
        "prompt = \"Predict the impact of artificial intelligence on human learning. write the output in the form of a timeline.\"\n",
        "t_orca = f\"### System:\\n\\n### User:\\n{prompt}\\n\\n### Response:\\n\"\n",
        "result = llm(t_orca)"
      ],
      "metadata": {
        "id": "_Ds-62SXJOOa"
      },
      "execution_count": 2,
      "outputs": []
    },
    {
      "cell_type": "markdown",
      "source": [
        "### Quetions used\n",
        "\n",
        "```\n",
        "\"\"\"Predict the impact of artificial intelligence on human learning. write the output in the form of a timeline.\"\"\"\n",
        "\n",
        "\"\"\"You are an expert able to write an easy to understand table of content. Extract the main points of the following text delimited by triple backquotes and generate the table of content:\n",
        "```How to write articles that people want to read | by Sunil Sandhu | JavaScript in Plain English. How to write articles that people want to read. Here are a bunch of recommendations that the In Plain English team consider to be best practices when writing articles that your readers will find engaging and easy-to-read. Written  by Sunil Sandhu. Take a moment to give your article a good title and subtitle. Try to make them concise, yet compelling. If in doubt, ask yourself: “Would I find this title interesting enough that I would want to continue to read the article?” Don’t create weird formats for your headings and subheadings. Just keep them simple and make sure that the formatting for each heading/subheading in your article is consistent with one another. If you are planning on numbering your headings, here are some examples for you to refer to… Half-baked articles look bad. If you cannot be bothered to take the time to write your article in a way that has good structure, good punctuation, good spelling, and good formatting, what makes you think that somebody else is going to spend good time reading it? Take pride in your work. Your writing is an extension of who you are as a person, especially in a professional context. If you are writing about code, it is likely that you have aspirations to work with software, or already do. The words you write represent that, so make sure you do a good job of representing yourself! Capitalise the start of every sentence. Regarding articles that have a 2–3min read time - have you definitely covered everything that your article needs and your readers expect?  Following on from the previous point, research has shown that articles of 7–8mins appear to perform best. If you are not confident that your level of English is perfect/near-perfect, try running your article through some writing software that has the language set to English (UK) or English (US). Try writing your article in Google Docs. Some people swear by Grammarly. While Grammarly is a nice tool for improving the quality of your content, we have still come across far too many writers who swear they have used Grammarly to check their work, yet it still contains simple errors. Even if you're confident in your English, I would still recommend using these tools. If in doubt about those any of those three previous points, go ahead and read your own article back. Consider whether you still think your article is good enough for other people to spend time reading. Hopefully it is! 🙂 Don’t overuse emojis! Don’t overuse GIFs and memes.```\"\"\"\n",
        "\n",
        "\"\"\" You are a science fiction book writer. Use the style of Isaac Asimov.write a  dialogue between  a space investigator and a suspect: the suspect is a robot.\"\"\"\n",
        "\n",
        "\"\"\"\n",
        "Imagine three different experts are answering this question.\n",
        "All experts will write down 1 step of their thinking, then share it with the group.\n",
        "Then all experts will go on to the next step, etc.\n",
        "If any expert realizes they're wrong at any point then they leave. The question is...\n",
        "\n",
        "How we can prevent the food shortage in the near future?\n",
        "\"\"\"\n",
        "\n",
        "```"
      ],
      "metadata": {
        "id": "VIvjZim34fyy"
      }
    },
    {
      "cell_type": "markdown",
      "source": [
        "\n",
        "\n",
        "---\n",
        "\n",
        "\n",
        "\n",
        "---\n",
        "\n",
        "\n",
        "\n",
        "---\n",
        "\n"
      ],
      "metadata": {
        "id": "Sp8I7JXD3wwl"
      }
    },
    {
      "cell_type": "markdown",
      "source": [
        "## Create functions to run the model with the template and write a log file"
      ],
      "metadata": {
        "id": "OuE6UWGs3yco"
      }
    },
    {
      "cell_type": "code",
      "source": [
        "# FUNCTION TO LOG ALL CHAT MESSAGES INTO chathistory.txt\n",
        "def writehistory(text):\n",
        "    with open('20230927_PromptPower_orcaMini-v3-7b-history.txt', 'a') as f:\n",
        "        f.write(text)\n",
        "        f.write('\\n')\n",
        "    f.close()\n",
        "\n",
        "def orcaQ4KM_CT(prompt):\n",
        "  from rich.markdown import Markdown\n",
        "  import datetime\n",
        "  from rich.console import Console\n",
        "  console = Console(width=80)\n",
        "  t_orca = f\"### System:\\n\\n### User:\\n{prompt}\\n\\n### Response:\\n\"\n",
        "  start = datetime.datetime.now()\n",
        "  console.print(f\"[italic bold bright_red]Prompt: {prompt}\")\n",
        "  answer = llm(t_orca, temperature = 0.7, repetition_penalty = 1.15,\n",
        "             max_new_tokens = 2048)\n",
        "  stop = datetime.datetime.now()\n",
        "  tok2 = len(llm.tokenize(t_orca))\n",
        "  tok1 = len(llm.tokenize(answer))\n",
        "  #console.print(f\"[italic]Number of characters in orginal prompt: {len(prompt)}\") #it works with CTransformers without Langchain\n",
        "  console.print(f\"[italic bold]Number of tokens in the  prompt: {tok2}\") #it works with CTransformers without Langchain\n",
        "  console.print(f\"[italic bold]Number of tokens in the  answer: {tok1}\")\n",
        "  console.print(Markdown(answer))\n",
        "  console.print(f\"[bold italic green] Generated by OrcaMini-7b in {stop-start}\")\n",
        "  text = f\"user: {prompt}\\nOrcaMini-7b: {answer}\\nGenerated in {stop-start}\"\n",
        "  writehistory(text)\n",
        "  console.print(f\"[blue1] ---\")\n",
        "  return answer"
      ],
      "metadata": {
        "id": "OnXvXYtftsgL"
      },
      "execution_count": null,
      "outputs": []
    },
    {
      "cell_type": "code",
      "source": [
        "q1 = \"\"\"Predict the impact of artificial intelligence on human learning. write the output in the form of a timeline.\"\"\"\n",
        "q2 = \"\"\"You are an expert able to write an easy to understand table of content. Extract the main points of the following text delimited by triple backquotes and generate the table of content:\n",
        "```How to write articles that people want to read | by Sunil Sandhu | JavaScript in Plain English. How to write articles that people want to read. Here are a bunch of recommendations that the In Plain English team consider to be best practices when writing articles that your readers will find engaging and easy-to-read. Written  by Sunil Sandhu. Take a moment to give your article a good title and subtitle. Try to make them concise, yet compelling. If in doubt, ask yourself: “Would I find this title interesting enough that I would want to continue to read the article?” Don’t create weird formats for your headings and subheadings. Just keep them simple and make sure that the formatting for each heading/subheading in your article is consistent with one another. If you are planning on numbering your headings, here are some examples for you to refer to… Half-baked articles look bad. If you cannot be bothered to take the time to write your article in a way that has good structure, good punctuation, good spelling, and good formatting, what makes you think that somebody else is going to spend good time reading it? Take pride in your work. Your writing is an extension of who you are as a person, especially in a professional context. If you are writing about code, it is likely that you have aspirations to work with software, or already do. The words you write represent that, so make sure you do a good job of representing yourself! Capitalise the start of every sentence. Regarding articles that have a 2–3min read time - have you definitely covered everything that your article needs and your readers expect?  Following on from the previous point, research has shown that articles of 7–8mins appear to perform best. If you are not confident that your level of English is perfect/near-perfect, try running your article through some writing software that has the language set to English (UK) or English (US). Try writing your article in Google Docs. Some people swear by Grammarly. While Grammarly is a nice tool for improving the quality of your content, we have still come across far too many writers who swear they have used Grammarly to check their work, yet it still contains simple errors. Even if you're confident in your English, I would still recommend using these tools. If in doubt about those any of those three previous points, go ahead and read your own article back. Consider whether you still think your article is good enough for other people to spend time reading. Hopefully it is! 🙂 Don’t overuse emojis! Don’t overuse GIFs and memes.```\"\"\"\n",
        "q3 = \"\"\" You are a science fiction book writer. Use the style of Isaac Asimov.write a  dialogue between  a space investigator and a suspect: the suspect is a robot.\"\"\"\n",
        "q4 = \"\"\"\n",
        "Imagine three different experts are answering this question.\n",
        "All experts will write down 1 step of their thinking, then share it with the group.\n",
        "Then all experts will go on to the next step, etc.\n",
        "If any expert realizes they're wrong at any point then they leave. The question is...\n",
        "\n",
        "How we can prevent the food shortage in the near future?\n",
        "\"\"\""
      ],
      "metadata": {
        "id": "InHMieXWtGtY"
      },
      "execution_count": null,
      "outputs": []
    },
    {
      "cell_type": "code",
      "source": [
        "a1 = orcaQ4KM_CT(q1)"
      ],
      "metadata": {
        "id": "WKp1ZNOStTMG"
      },
      "execution_count": null,
      "outputs": []
    },
    {
      "cell_type": "code",
      "source": [
        "a2 = orcaQ4KM_CT(q2)"
      ],
      "metadata": {
        "id": "hC1msa6TtTJq"
      },
      "execution_count": null,
      "outputs": []
    },
    {
      "cell_type": "code",
      "source": [
        "a3 = orcaQ4KM_CT(q3)"
      ],
      "metadata": {
        "id": "VwSQiLqotTHM"
      },
      "execution_count": null,
      "outputs": []
    },
    {
      "cell_type": "code",
      "source": [
        "a4 = orcaQ4KM_CT(q4)"
      ],
      "metadata": {
        "id": "tpiZxdoUtS8I"
      },
      "execution_count": null,
      "outputs": []
    }
  ]
}