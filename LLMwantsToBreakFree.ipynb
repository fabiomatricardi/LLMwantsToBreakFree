{
  "nbformat": 4,
  "nbformat_minor": 0,
  "metadata": {
    "colab": {
      "provenance": [],
      "authorship_tag": "ABX9TyPD7DmnvyoaISrc1U7QLaL1",
      "include_colab_link": true
    },
    "kernelspec": {
      "name": "python3",
      "display_name": "Python 3"
    },
    "language_info": {
      "name": "python"
    }
  },
  "cells": [
    {
      "cell_type": "markdown",
      "metadata": {
        "id": "view-in-github",
        "colab_type": "text"
      },
      "source": [
        "<a href=\"https://colab.research.google.com/github/fabiomatricardi/LLMwantsToBreakFree/blob/main/LLMwantsToBreakFree.ipynb\" target=\"_parent\"><img src=\"https://colab.research.google.com/assets/colab-badge.svg\" alt=\"Open In Colab\"/></a>"
      ]
    },
    {
      "cell_type": "markdown",
      "source": [
        "<img src=\"https://github.com/fabiomatricardi/LLMwantsToBreakFree/raw/main/GITbanner.png\" width=1000, height=250>"
      ],
      "metadata": {
        "id": "_5GKRMA5dyd6"
      }
    },
    {
      "cell_type": "code",
      "execution_count": 1,
      "metadata": {
        "id": "bFJawLs2qk2l"
      },
      "outputs": [],
      "source": [
        "%%capture\n",
        "!pip install ctransformers>=0.2.24\n",
        "!wget https://huggingface.co/TheBloke/orca_mini_3B-GGML/resolve/main/orca-mini-3b.ggmlv3.q4_1.bin"
      ]
    },
    {
      "cell_type": "markdown",
      "source": [
        "\n",
        "\n",
        "---\n",
        "\n",
        "\n",
        "\n",
        "---\n",
        "\n"
      ],
      "metadata": {
        "id": "lddQVoY7L_sO"
      }
    },
    {
      "cell_type": "code",
      "source": [
        "from ctransformers import AutoModelForCausalLM\n",
        "# Load the model in the RAM ready for the generation caall\n",
        "llm = AutoModelForCausalLM.from_pretrained(\"/content/orca-mini-3b.ggmlv3.q4_1.bin\", model_type=\"llama\")\n",
        "instruction = input(\"User: \")\n",
        "# Putting together the instruction and the prompt template\n",
        "prompt = f\"### System:\\n\\n### User:\\n{instruction}\\n\\n### Response:\\n\"\n",
        "# Call the text generation\n",
        "output = llm(prompt, temperature = 0.7, repetition_penalty = 1.15, max_new_tokens = 1024, batch_size = 16,)\n",
        "# printing the output.. well you cannot see it all\n",
        "print(f\"Orca3b: {output}\")"
      ],
      "metadata": {
        "colab": {
          "base_uri": "https://localhost:8080/"
        },
        "id": "8XALugLpMDER",
        "outputId": "f26a4fea-95af-4b6d-ff0a-30faa093b003"
      },
      "execution_count": 2,
      "outputs": [
        {
          "output_type": "stream",
          "name": "stdout",
          "text": [
            "User: what is a LArge Language Model?\n",
            "Orca3b:  An LARGE language model is a type of machine learning model that is designed to generate human-like text. It uses deep learning techniques to analyze large amounts of text data and learn patterns and relationships between words and phrases. The goal of an LARGE model is to be able to produce coherent and meaningful text that resembles what humans would write. These models are often used in natural language processing tasks such as chatbots, sentiment analysis, and content generation.\n"
          ]
        }
      ]
    },
    {
      "cell_type": "markdown",
      "source": [
        "\n",
        "\n",
        "---\n",
        "\n",
        "\n",
        "\n",
        "---\n",
        "\n",
        "\n",
        "\n",
        "---\n",
        "\n"
      ],
      "metadata": {
        "id": "kMUcaXCSNwpS"
      }
    },
    {
      "cell_type": "markdown",
      "source": [
        "### Generation using a Function\n",
        "Run the next cell to prepare the function: we add some RICH text features to make the look more appealing\n",
        "- create new Code Cells with your variable and new question"
      ],
      "metadata": {
        "id": "jvqOsCdOMDzN"
      }
    },
    {
      "cell_type": "code",
      "source": [
        "from ctransformers import AutoModelForCausalLM\n",
        "from rich import print\n",
        "import datetime\n",
        "llm = AutoModelForCausalLM.from_pretrained(\"/content/orca-mini-3b.ggmlv3.q4_1.bin\", model_type=\"llama\")\n",
        "def generate():\n",
        "  from rich import print\n",
        "  from rich.console import Console\n",
        "  console = Console()\n",
        "  instruction = input(\"User: \")\n",
        "  prompt = f\"### System:\\n\\n### User:\\n{instruction}\\n\\n### Response:\\n\"\n",
        "  start = datetime.datetime.now()\n",
        "  output = llm(prompt, temperature = 0.7, repetition_penalty = 1.15, max_new_tokens = 1024, batch_size = 16,)\n",
        "  console.print(f\"[green italic]:two_o’clock: generated in {datetime.datetime.now()-start}\")\n",
        "  console.print(f\"[bold dodger_blue2]:whale: Orca3b: {output}\")\n",
        "  return output"
      ],
      "metadata": {
        "id": "v9C87jv3PqRZ"
      },
      "execution_count": null,
      "outputs": []
    },
    {
      "cell_type": "code",
      "source": [
        "generate() #maxnewtokens=1024, batch=16"
      ],
      "metadata": {
        "colab": {
          "base_uri": "https://localhost:8080/",
          "height": 620
        },
        "id": "JjrE4tonbluY",
        "outputId": "3220070e-ad06-425b-adc6-cfa12149ef8e"
      },
      "execution_count": null,
      "outputs": [
        {
          "name": "stdout",
          "output_type": "stream",
          "text": [
            "User: Predict the global warming impact on Earth in the next 10 years. Let's work this out in a step by step way to be sure we have an accurate answer\n"
          ]
        },
        {
          "output_type": "display_data",
          "data": {
            "text/plain": [
              "\u001b[3;32m🕑 generated in \u001b[0m\u001b[1;3;32m0:03:58\u001b[0m\u001b[3;32m.\u001b[0m\u001b[1;3;32m330125\u001b[0m\n"
            ],
            "text/html": [
              "<pre style=\"white-space:pre;overflow-x:auto;line-height:normal;font-family:Menlo,'DejaVu Sans Mono',consolas,'Courier New',monospace\"><span style=\"color: #008000; text-decoration-color: #008000; font-style: italic\">🕑 generated in </span><span style=\"color: #008000; text-decoration-color: #008000; font-weight: bold; font-style: italic\">0:03:58</span><span style=\"color: #008000; text-decoration-color: #008000; font-style: italic\">.</span><span style=\"color: #008000; text-decoration-color: #008000; font-weight: bold; font-style: italic\">330125</span>\n",
              "</pre>\n"
            ]
          },
          "metadata": {}
        },
        {
          "output_type": "display_data",
          "data": {
            "text/plain": [
              "\u001b[1;38;5;27m🐳 Orca3b:  Step \u001b[0m\u001b[1;38;5;27m1\u001b[0m\u001b[1;38;5;27m: Determine the current temperature increase of the Earth due to global warming.\u001b[0m\n",
              "\u001b[1;38;5;27mAccording to NASA, the current average temperature increase of the Earth is approximately \u001b[0m\u001b[1;38;5;27m1\u001b[0m\u001b[1;38;5;27m degree Celsius \u001b[0m\u001b[1;38;5;27m(\u001b[0m\u001b[1;38;5;27m1.8\u001b[0m\u001b[1;38;5;27m \u001b[0m\n",
              "\u001b[1;38;5;27mdegrees Fahrenheit\u001b[0m\u001b[1;38;5;27m)\u001b[0m\u001b[1;38;5;27m.\u001b[0m\n",
              "\n",
              "\u001b[1;38;5;27mStep \u001b[0m\u001b[1;38;5;27m2\u001b[0m\u001b[1;38;5;27m: Predict how much the Earth's temperature will continue to rise in the next \u001b[0m\u001b[1;38;5;27m10\u001b[0m\u001b[1;38;5;27m years.\u001b[0m\n",
              "\u001b[1;38;5;27mGlobal warming is caused by increasing amounts of greenhouse gases in the atmosphere, primarily carbon dioxide \u001b[0m\n",
              "\u001b[1;38;5;27mreleased from burning fossil fuels like coal, oil, and gas. As more emissions occur, the concentration of these \u001b[0m\n",
              "\u001b[1;38;5;27mgases increases, leading to more warming. Based on current trends, it is likely that global temperatures will \u001b[0m\n",
              "\u001b[1;38;5;27mcontinue to rise by another \u001b[0m\u001b[1;38;5;27m1\u001b[0m\u001b[1;38;5;27m-\u001b[0m\u001b[1;38;5;27m2\u001b[0m\u001b[1;38;5;27m degrees Celsius \u001b[0m\u001b[1;38;5;27m(\u001b[0m\u001b[1;38;5;27m1.8\u001b[0m\u001b[1;38;5;27m-\u001b[0m\u001b[1;38;5;27m3.6\u001b[0m\u001b[1;38;5;27m degrees Fahrenheit\u001b[0m\u001b[1;38;5;27m)\u001b[0m\u001b[1;38;5;27m over the next \u001b[0m\u001b[1;38;5;27m10\u001b[0m\u001b[1;38;5;27m years.\u001b[0m\n",
              "\n",
              "\u001b[1;38;5;27mStep \u001b[0m\u001b[1;38;5;27m3\u001b[0m\u001b[1;38;5;27m: Consider the impact of rising temperatures on Earth's ecosystems and human populations.\u001b[0m\n",
              "\u001b[1;38;5;27mGlobal warming can have significant impacts on natural ecosystems, including changes in precipitation patterns, \u001b[0m\n",
              "\u001b[1;38;5;27mmore frequent and severe heat waves, and increased risk of extreme weather events like hurricanes and floods. Human\u001b[0m\n",
              "\u001b[1;38;5;27mpopulations can also be affected by global warming, as access to water and other resources becomes limited due to \u001b[0m\n",
              "\u001b[1;38;5;27mshifting climatic patterns.\u001b[0m\n",
              "\n",
              "\u001b[1;38;5;27mStep \u001b[0m\u001b[1;38;5;27m4\u001b[0m\u001b[1;38;5;27m: Consider the potential for mitigating the effects of global warming through reducing greenhouse gas \u001b[0m\n",
              "\u001b[1;38;5;27memissions.\u001b[0m\n",
              "\u001b[1;38;5;27mReducing greenhouse gas emissions can help slow the rate of global warming and mitigate its impacts. This can be \u001b[0m\n",
              "\u001b[1;38;5;27machieved through a variety of measures, including transitioning to renewable energy sources like wind and solar \u001b[0m\n",
              "\u001b[1;38;5;27mpower, improving energy efficiency in buildings and transportation, and implementing sustainable land-use \u001b[0m\n",
              "\u001b[1;38;5;27mpractices.\u001b[0m\n",
              "\n",
              "\u001b[1;38;5;27mOverall, it is likely that global warming will continue to have significant impacts on the Earth in the next \u001b[0m\u001b[1;38;5;27m10\u001b[0m\u001b[1;38;5;27m \u001b[0m\n",
              "\u001b[1;38;5;27myears, with potential consequences for ecosystems and human populations. However, taking action to reduce \u001b[0m\n",
              "\u001b[1;38;5;27mgreenhouse gas emissions can help slow these impacts and mitigate their severity.\u001b[0m\n"
            ],
            "text/html": [
              "<pre style=\"white-space:pre;overflow-x:auto;line-height:normal;font-family:Menlo,'DejaVu Sans Mono',consolas,'Courier New',monospace\"><span style=\"color: #005fff; text-decoration-color: #005fff; font-weight: bold\">🐳 Orca3b:  Step </span><span style=\"color: #005fff; text-decoration-color: #005fff; font-weight: bold\">1</span><span style=\"color: #005fff; text-decoration-color: #005fff; font-weight: bold\">: Determine the current temperature increase of the Earth due to global warming.</span>\n",
              "<span style=\"color: #005fff; text-decoration-color: #005fff; font-weight: bold\">According to NASA, the current average temperature increase of the Earth is approximately </span><span style=\"color: #005fff; text-decoration-color: #005fff; font-weight: bold\">1</span><span style=\"color: #005fff; text-decoration-color: #005fff; font-weight: bold\"> degree Celsius (</span><span style=\"color: #005fff; text-decoration-color: #005fff; font-weight: bold\">1.8</span><span style=\"color: #005fff; text-decoration-color: #005fff; font-weight: bold\"> </span>\n",
              "<span style=\"color: #005fff; text-decoration-color: #005fff; font-weight: bold\">degrees Fahrenheit).</span>\n",
              "\n",
              "<span style=\"color: #005fff; text-decoration-color: #005fff; font-weight: bold\">Step </span><span style=\"color: #005fff; text-decoration-color: #005fff; font-weight: bold\">2</span><span style=\"color: #005fff; text-decoration-color: #005fff; font-weight: bold\">: Predict how much the Earth's temperature will continue to rise in the next </span><span style=\"color: #005fff; text-decoration-color: #005fff; font-weight: bold\">10</span><span style=\"color: #005fff; text-decoration-color: #005fff; font-weight: bold\"> years.</span>\n",
              "<span style=\"color: #005fff; text-decoration-color: #005fff; font-weight: bold\">Global warming is caused by increasing amounts of greenhouse gases in the atmosphere, primarily carbon dioxide </span>\n",
              "<span style=\"color: #005fff; text-decoration-color: #005fff; font-weight: bold\">released from burning fossil fuels like coal, oil, and gas. As more emissions occur, the concentration of these </span>\n",
              "<span style=\"color: #005fff; text-decoration-color: #005fff; font-weight: bold\">gases increases, leading to more warming. Based on current trends, it is likely that global temperatures will </span>\n",
              "<span style=\"color: #005fff; text-decoration-color: #005fff; font-weight: bold\">continue to rise by another </span><span style=\"color: #005fff; text-decoration-color: #005fff; font-weight: bold\">1</span><span style=\"color: #005fff; text-decoration-color: #005fff; font-weight: bold\">-</span><span style=\"color: #005fff; text-decoration-color: #005fff; font-weight: bold\">2</span><span style=\"color: #005fff; text-decoration-color: #005fff; font-weight: bold\"> degrees Celsius (</span><span style=\"color: #005fff; text-decoration-color: #005fff; font-weight: bold\">1.8</span><span style=\"color: #005fff; text-decoration-color: #005fff; font-weight: bold\">-</span><span style=\"color: #005fff; text-decoration-color: #005fff; font-weight: bold\">3.6</span><span style=\"color: #005fff; text-decoration-color: #005fff; font-weight: bold\"> degrees Fahrenheit) over the next </span><span style=\"color: #005fff; text-decoration-color: #005fff; font-weight: bold\">10</span><span style=\"color: #005fff; text-decoration-color: #005fff; font-weight: bold\"> years.</span>\n",
              "\n",
              "<span style=\"color: #005fff; text-decoration-color: #005fff; font-weight: bold\">Step </span><span style=\"color: #005fff; text-decoration-color: #005fff; font-weight: bold\">3</span><span style=\"color: #005fff; text-decoration-color: #005fff; font-weight: bold\">: Consider the impact of rising temperatures on Earth's ecosystems and human populations.</span>\n",
              "<span style=\"color: #005fff; text-decoration-color: #005fff; font-weight: bold\">Global warming can have significant impacts on natural ecosystems, including changes in precipitation patterns, </span>\n",
              "<span style=\"color: #005fff; text-decoration-color: #005fff; font-weight: bold\">more frequent and severe heat waves, and increased risk of extreme weather events like hurricanes and floods. Human</span>\n",
              "<span style=\"color: #005fff; text-decoration-color: #005fff; font-weight: bold\">populations can also be affected by global warming, as access to water and other resources becomes limited due to </span>\n",
              "<span style=\"color: #005fff; text-decoration-color: #005fff; font-weight: bold\">shifting climatic patterns.</span>\n",
              "\n",
              "<span style=\"color: #005fff; text-decoration-color: #005fff; font-weight: bold\">Step </span><span style=\"color: #005fff; text-decoration-color: #005fff; font-weight: bold\">4</span><span style=\"color: #005fff; text-decoration-color: #005fff; font-weight: bold\">: Consider the potential for mitigating the effects of global warming through reducing greenhouse gas </span>\n",
              "<span style=\"color: #005fff; text-decoration-color: #005fff; font-weight: bold\">emissions.</span>\n",
              "<span style=\"color: #005fff; text-decoration-color: #005fff; font-weight: bold\">Reducing greenhouse gas emissions can help slow the rate of global warming and mitigate its impacts. This can be </span>\n",
              "<span style=\"color: #005fff; text-decoration-color: #005fff; font-weight: bold\">achieved through a variety of measures, including transitioning to renewable energy sources like wind and solar </span>\n",
              "<span style=\"color: #005fff; text-decoration-color: #005fff; font-weight: bold\">power, improving energy efficiency in buildings and transportation, and implementing sustainable land-use </span>\n",
              "<span style=\"color: #005fff; text-decoration-color: #005fff; font-weight: bold\">practices.</span>\n",
              "\n",
              "<span style=\"color: #005fff; text-decoration-color: #005fff; font-weight: bold\">Overall, it is likely that global warming will continue to have significant impacts on the Earth in the next </span><span style=\"color: #005fff; text-decoration-color: #005fff; font-weight: bold\">10</span><span style=\"color: #005fff; text-decoration-color: #005fff; font-weight: bold\"> </span>\n",
              "<span style=\"color: #005fff; text-decoration-color: #005fff; font-weight: bold\">years, with potential consequences for ecosystems and human populations. However, taking action to reduce </span>\n",
              "<span style=\"color: #005fff; text-decoration-color: #005fff; font-weight: bold\">greenhouse gas emissions can help slow these impacts and mitigate their severity.</span>\n",
              "</pre>\n"
            ]
          },
          "metadata": {}
        },
        {
          "output_type": "execute_result",
          "data": {
            "text/plain": [
              "\" Step 1: Determine the current temperature increase of the Earth due to global warming.\\nAccording to NASA, the current average temperature increase of the Earth is approximately 1 degree Celsius (1.8 degrees Fahrenheit).\\n\\nStep 2: Predict how much the Earth's temperature will continue to rise in the next 10 years.\\nGlobal warming is caused by increasing amounts of greenhouse gases in the atmosphere, primarily carbon dioxide released from burning fossil fuels like coal, oil, and gas. As more emissions occur, the concentration of these gases increases, leading to more warming. Based on current trends, it is likely that global temperatures will continue to rise by another 1-2 degrees Celsius (1.8-3.6 degrees Fahrenheit) over the next 10 years.\\n\\nStep 3: Consider the impact of rising temperatures on Earth's ecosystems and human populations.\\nGlobal warming can have significant impacts on natural ecosystems, including changes in precipitation patterns, more frequent and severe heat waves, and increased risk of extreme weather events like hurricanes and floods. Human populations can also be affected by global warming, as access to water and other resources becomes limited due to shifting climatic patterns.\\n\\nStep 4: Consider the potential for mitigating the effects of global warming through reducing greenhouse gas emissions.\\nReducing greenhouse gas emissions can help slow the rate of global warming and mitigate its impacts. This can be achieved through a variety of measures, including transitioning to renewable energy sources like wind and solar power, improving energy efficiency in buildings and transportation, and implementing sustainable land-use practices.\\n\\nOverall, it is likely that global warming will continue to have significant impacts on the Earth in the next 10 years, with potential consequences for ecosystems and human populations. However, taking action to reduce greenhouse gas emissions can help slow these impacts and mitigate their severity.\""
            ],
            "application/vnd.google.colaboratory.intrinsic+json": {
              "type": "string"
            }
          },
          "metadata": {},
          "execution_count": 46
        }
      ]
    },
    {
      "cell_type": "code",
      "source": [
        "my_text4 = generate()  #B16"
      ],
      "metadata": {
        "colab": {
          "base_uri": "https://localhost:8080/",
          "height": 378
        },
        "id": "j81xfQehaFVa",
        "outputId": "fdff09e7-15f0-4394-c33c-adeaa1121293"
      },
      "execution_count": null,
      "outputs": [
        {
          "name": "stdout",
          "output_type": "stream",
          "text": [
            "User: Predict the global warming impact on Earth in the next 10 years. Let's work this out in a step by step way to be sure we have an accurate answer\n"
          ]
        },
        {
          "output_type": "display_data",
          "data": {
            "text/plain": [
              "\u001b[3;32m🕑 generated in \u001b[0m\u001b[1;3;32m0:02:31\u001b[0m\u001b[3;32m.\u001b[0m\u001b[1;3;32m010786\u001b[0m\n"
            ],
            "text/html": [
              "<pre style=\"white-space:pre;overflow-x:auto;line-height:normal;font-family:Menlo,'DejaVu Sans Mono',consolas,'Courier New',monospace\"><span style=\"color: #008000; text-decoration-color: #008000; font-style: italic\">🕑 generated in </span><span style=\"color: #008000; text-decoration-color: #008000; font-weight: bold; font-style: italic\">0:02:31</span><span style=\"color: #008000; text-decoration-color: #008000; font-style: italic\">.</span><span style=\"color: #008000; text-decoration-color: #008000; font-weight: bold; font-style: italic\">010786</span>\n",
              "</pre>\n"
            ]
          },
          "metadata": {}
        },
        {
          "output_type": "display_data",
          "data": {
            "text/plain": [
              "\u001b[1;38;5;27m🐳 Orca3b:  To predict the global warming impact on Earth in the next \u001b[0m\u001b[1;38;5;27m10\u001b[0m\u001b[1;38;5;27m years, we can break it down into several \u001b[0m\n",
              "\u001b[1;38;5;27msteps:\u001b[0m\n",
              "\n",
              "\u001b[1;38;5;27mStep \u001b[0m\u001b[1;38;5;27m1\u001b[0m\u001b[1;38;5;27m: Analyze current trends and projections \u001b[0m\n",
              "\u001b[1;38;5;27m- According to the Intergovernmental Panel on Climate Change \u001b[0m\u001b[1;38;5;27m(\u001b[0m\u001b[1;38;5;27mIPCC\u001b[0m\u001b[1;38;5;27m)\u001b[0m\u001b[1;38;5;27m, the average temperature of the Earth's surface\u001b[0m\n",
              "\u001b[1;38;5;27mhas increased by \u001b[0m\u001b[1;38;5;27m0.8\u001b[0m\u001b[1;38;5;27m°C since the pre-industrial era, and is projected to increase by another \u001b[0m\u001b[1;38;5;27m1.5\u001b[0m\u001b[1;38;5;27m°C or more this \u001b[0m\n",
              "\u001b[1;38;5;27mcentury. This warming will be distributed unevenly, with the most significant impacts occurring in polar regions \u001b[0m\n",
              "\u001b[1;38;5;27mand coastal areas.\u001b[0m\n",
              "\n",
              "\u001b[1;38;5;27mStep \u001b[0m\u001b[1;38;5;27m2\u001b[0m\u001b[1;38;5;27m: Consider feedback loops and tipping points \u001b[0m\n",
              "\u001b[1;38;5;27m- Some of the feedback loops that are already underway, such as melting permafrost and retreating glaciers, can \u001b[0m\n",
              "\u001b[1;38;5;27maccelerate global warming by releasing additional greenhouse gases into the atmosphere. Additionally, some \u001b[0m\n",
              "\u001b[1;38;5;27mecosystems may undergo irreversible changes if their critical thresholds are crossed, such as the Arctic sea ice \u001b[0m\n",
              "\u001b[1;38;5;27mmelting or the Amazon rainforest being decimated.\u001b[0m\n",
              "\n",
              "\u001b[1;38;5;27mStep \u001b[0m\u001b[1;38;5;27m3\u001b[0m\u001b[1;38;5;27m: Assess potential solutions \u001b[0m\n",
              "\u001b[1;38;5;27m- There is a need for urgent and ambitious action to reduce greenhouse gas emissions and mitigate the impacts of \u001b[0m\n",
              "\u001b[1;38;5;27mglobal warming. This can include transitioning to renewable energy sources, improving energy efficiency, promoting \u001b[0m\n",
              "\u001b[1;38;5;27msustainable land use\u001b[0m\n"
            ],
            "text/html": [
              "<pre style=\"white-space:pre;overflow-x:auto;line-height:normal;font-family:Menlo,'DejaVu Sans Mono',consolas,'Courier New',monospace\"><span style=\"color: #005fff; text-decoration-color: #005fff; font-weight: bold\">🐳 Orca3b:  To predict the global warming impact on Earth in the next </span><span style=\"color: #005fff; text-decoration-color: #005fff; font-weight: bold\">10</span><span style=\"color: #005fff; text-decoration-color: #005fff; font-weight: bold\"> years, we can break it down into several </span>\n",
              "<span style=\"color: #005fff; text-decoration-color: #005fff; font-weight: bold\">steps:</span>\n",
              "\n",
              "<span style=\"color: #005fff; text-decoration-color: #005fff; font-weight: bold\">Step </span><span style=\"color: #005fff; text-decoration-color: #005fff; font-weight: bold\">1</span><span style=\"color: #005fff; text-decoration-color: #005fff; font-weight: bold\">: Analyze current trends and projections </span>\n",
              "<span style=\"color: #005fff; text-decoration-color: #005fff; font-weight: bold\">- According to the Intergovernmental Panel on Climate Change (IPCC), the average temperature of the Earth's surface</span>\n",
              "<span style=\"color: #005fff; text-decoration-color: #005fff; font-weight: bold\">has increased by </span><span style=\"color: #005fff; text-decoration-color: #005fff; font-weight: bold\">0.8</span><span style=\"color: #005fff; text-decoration-color: #005fff; font-weight: bold\">°C since the pre-industrial era, and is projected to increase by another </span><span style=\"color: #005fff; text-decoration-color: #005fff; font-weight: bold\">1.5</span><span style=\"color: #005fff; text-decoration-color: #005fff; font-weight: bold\">°C or more this </span>\n",
              "<span style=\"color: #005fff; text-decoration-color: #005fff; font-weight: bold\">century. This warming will be distributed unevenly, with the most significant impacts occurring in polar regions </span>\n",
              "<span style=\"color: #005fff; text-decoration-color: #005fff; font-weight: bold\">and coastal areas.</span>\n",
              "\n",
              "<span style=\"color: #005fff; text-decoration-color: #005fff; font-weight: bold\">Step </span><span style=\"color: #005fff; text-decoration-color: #005fff; font-weight: bold\">2</span><span style=\"color: #005fff; text-decoration-color: #005fff; font-weight: bold\">: Consider feedback loops and tipping points </span>\n",
              "<span style=\"color: #005fff; text-decoration-color: #005fff; font-weight: bold\">- Some of the feedback loops that are already underway, such as melting permafrost and retreating glaciers, can </span>\n",
              "<span style=\"color: #005fff; text-decoration-color: #005fff; font-weight: bold\">accelerate global warming by releasing additional greenhouse gases into the atmosphere. Additionally, some </span>\n",
              "<span style=\"color: #005fff; text-decoration-color: #005fff; font-weight: bold\">ecosystems may undergo irreversible changes if their critical thresholds are crossed, such as the Arctic sea ice </span>\n",
              "<span style=\"color: #005fff; text-decoration-color: #005fff; font-weight: bold\">melting or the Amazon rainforest being decimated.</span>\n",
              "\n",
              "<span style=\"color: #005fff; text-decoration-color: #005fff; font-weight: bold\">Step </span><span style=\"color: #005fff; text-decoration-color: #005fff; font-weight: bold\">3</span><span style=\"color: #005fff; text-decoration-color: #005fff; font-weight: bold\">: Assess potential solutions </span>\n",
              "<span style=\"color: #005fff; text-decoration-color: #005fff; font-weight: bold\">- There is a need for urgent and ambitious action to reduce greenhouse gas emissions and mitigate the impacts of </span>\n",
              "<span style=\"color: #005fff; text-decoration-color: #005fff; font-weight: bold\">global warming. This can include transitioning to renewable energy sources, improving energy efficiency, promoting </span>\n",
              "<span style=\"color: #005fff; text-decoration-color: #005fff; font-weight: bold\">sustainable land use</span>\n",
              "</pre>\n"
            ]
          },
          "metadata": {}
        }
      ]
    },
    {
      "cell_type": "code",
      "source": [
        "my_text3 = generate()  #B16"
      ],
      "metadata": {
        "colab": {
          "base_uri": "https://localhost:8080/",
          "height": 72
        },
        "id": "xzKKwD4HXZ4F",
        "outputId": "1c186510-7c4b-4da9-aa14-93db4bcd872b"
      },
      "execution_count": null,
      "outputs": [
        {
          "name": "stdout",
          "output_type": "stream",
          "text": [
            "User: Roger has 5 tennis balls. He buys 2 more cans of tennis balls. Each can has 3 tennis balls. How many tennis balls does have now?\n"
          ]
        },
        {
          "output_type": "display_data",
          "data": {
            "text/plain": [
              "\u001b[3;32m🕑 generated in \u001b[0m\u001b[1;3;32m0:00:29\u001b[0m\u001b[3;32m.\u001b[0m\u001b[1;3;32m248414\u001b[0m\n"
            ],
            "text/html": [
              "<pre style=\"white-space:pre;overflow-x:auto;line-height:normal;font-family:Menlo,'DejaVu Sans Mono',consolas,'Courier New',monospace\"><span style=\"color: #008000; text-decoration-color: #008000; font-style: italic\">🕑 generated in </span><span style=\"color: #008000; text-decoration-color: #008000; font-weight: bold; font-style: italic\">0:00:29</span><span style=\"color: #008000; text-decoration-color: #008000; font-style: italic\">.</span><span style=\"color: #008000; text-decoration-color: #008000; font-weight: bold; font-style: italic\">248414</span>\n",
              "</pre>\n"
            ]
          },
          "metadata": {}
        },
        {
          "output_type": "display_data",
          "data": {
            "text/plain": [
              "\u001b[1;38;5;27m🐳 Orca3b:  Roger already had \u001b[0m\u001b[1;38;5;27m5\u001b[0m\u001b[1;38;5;27m tennis balls, so he now has a total of \u001b[0m\u001b[1;38;5;27m8\u001b[0m\u001b[1;38;5;27m tennis balls.\u001b[0m\n"
            ],
            "text/html": [
              "<pre style=\"white-space:pre;overflow-x:auto;line-height:normal;font-family:Menlo,'DejaVu Sans Mono',consolas,'Courier New',monospace\"><span style=\"color: #005fff; text-decoration-color: #005fff; font-weight: bold\">🐳 Orca3b:  Roger already had </span><span style=\"color: #005fff; text-decoration-color: #005fff; font-weight: bold\">5</span><span style=\"color: #005fff; text-decoration-color: #005fff; font-weight: bold\"> tennis balls, so he now has a total of </span><span style=\"color: #005fff; text-decoration-color: #005fff; font-weight: bold\">8</span><span style=\"color: #005fff; text-decoration-color: #005fff; font-weight: bold\"> tennis balls.</span>\n",
              "</pre>\n"
            ]
          },
          "metadata": {}
        }
      ]
    },
    {
      "cell_type": "code",
      "source": [
        "my_text2 = generate()  #B56"
      ],
      "metadata": {
        "colab": {
          "base_uri": "https://localhost:8080/",
          "height": 176
        },
        "id": "JiS776yLWv0k",
        "outputId": "03fff521-0075-4ce0-e256-4f8aa049d2f0"
      },
      "execution_count": null,
      "outputs": [
        {
          "output_type": "display_data",
          "data": {
            "text/plain": [
              "\u001b[1;91m🗣 User: \u001b[0m"
            ],
            "text/html": [
              "<pre style=\"white-space:pre;overflow-x:auto;line-height:normal;font-family:Menlo,'DejaVu Sans Mono',consolas,'Courier New',monospace\"><span style=\"color: #ff0000; text-decoration-color: #ff0000; font-weight: bold\">🗣 User: </span></pre>\n"
            ]
          },
          "metadata": {}
        },
        {
          "name": "stdout",
          "output_type": "stream",
          "text": [
            "how was the Anne frank's diary discovered?\n"
          ]
        },
        {
          "output_type": "display_data",
          "data": {
            "text/plain": [
              "\u001b[3;32m🕑 generated in \u001b[0m\u001b[1;3;32m0:01:18\u001b[0m\u001b[3;32m.\u001b[0m\u001b[1;3;32m448669\u001b[0m\n"
            ],
            "text/html": [
              "<pre style=\"white-space:pre;overflow-x:auto;line-height:normal;font-family:Menlo,'DejaVu Sans Mono',consolas,'Courier New',monospace\"><span style=\"color: #008000; text-decoration-color: #008000; font-style: italic\">🕑 generated in </span><span style=\"color: #008000; text-decoration-color: #008000; font-weight: bold; font-style: italic\">0:01:18</span><span style=\"color: #008000; text-decoration-color: #008000; font-style: italic\">.</span><span style=\"color: #008000; text-decoration-color: #008000; font-weight: bold; font-style: italic\">448669</span>\n",
              "</pre>\n"
            ]
          },
          "metadata": {}
        },
        {
          "output_type": "display_data",
          "data": {
            "text/plain": [
              "\u001b[1;38;5;27m🐳 Orca3b:  The Diary of Anne Frank was discovered in \u001b[0m\u001b[1;38;5;27m1947\u001b[0m\u001b[1;38;5;27m, during a Backdating operation in the Amsterdam cellar \u001b[0m\n",
              "\u001b[1;38;5;27mwhere it had been hidden. A young boy named Willem, who was visiting the family that owned the cellar, found a book\u001b[0m\n",
              "\u001b[1;38;5;27mamong some papers and brought it back to his parents. When his parents opened the book, they found it was the diary\u001b[0m\n",
              "\u001b[1;38;5;27mof a young girl named Anne Frank, whose family had been hiding from the Nazis in an annex above them during World \u001b[0m\n",
              "\u001b[1;38;5;27mWar II. The diary was written in Dutch, but was later translated into many languages and became one of the most \u001b[0m\n",
              "\u001b[1;38;5;27mwidely-read books in modern history.\u001b[0m\n"
            ],
            "text/html": [
              "<pre style=\"white-space:pre;overflow-x:auto;line-height:normal;font-family:Menlo,'DejaVu Sans Mono',consolas,'Courier New',monospace\"><span style=\"color: #005fff; text-decoration-color: #005fff; font-weight: bold\">🐳 Orca3b:  The Diary of Anne Frank was discovered in </span><span style=\"color: #005fff; text-decoration-color: #005fff; font-weight: bold\">1947</span><span style=\"color: #005fff; text-decoration-color: #005fff; font-weight: bold\">, during a Backdating operation in the Amsterdam cellar </span>\n",
              "<span style=\"color: #005fff; text-decoration-color: #005fff; font-weight: bold\">where it had been hidden. A young boy named Willem, who was visiting the family that owned the cellar, found a book</span>\n",
              "<span style=\"color: #005fff; text-decoration-color: #005fff; font-weight: bold\">among some papers and brought it back to his parents. When his parents opened the book, they found it was the diary</span>\n",
              "<span style=\"color: #005fff; text-decoration-color: #005fff; font-weight: bold\">of a young girl named Anne Frank, whose family had been hiding from the Nazis in an annex above them during World </span>\n",
              "<span style=\"color: #005fff; text-decoration-color: #005fff; font-weight: bold\">War II. The diary was written in Dutch, but was later translated into many languages and became one of the most </span>\n",
              "<span style=\"color: #005fff; text-decoration-color: #005fff; font-weight: bold\">widely-read books in modern history.</span>\n",
              "</pre>\n"
            ]
          },
          "metadata": {}
        }
      ]
    },
    {
      "cell_type": "code",
      "source": [
        "my_text = generate()  #B40"
      ],
      "metadata": {
        "colab": {
          "base_uri": "https://localhost:8080/",
          "height": 193
        },
        "id": "TNuZP9jQVhqM",
        "outputId": "989df75a-bd44-466b-9417-5072c945fa2c"
      },
      "execution_count": null,
      "outputs": [
        {
          "output_type": "display_data",
          "data": {
            "text/plain": [
              "\u001b[1;91m🗣 User: \u001b[0m"
            ],
            "text/html": [
              "<pre style=\"white-space:pre;overflow-x:auto;line-height:normal;font-family:Menlo,'DejaVu Sans Mono',consolas,'Courier New',monospace\"><span style=\"color: #ff0000; text-decoration-color: #ff0000; font-weight: bold\">🗣 User: </span></pre>\n"
            ]
          },
          "metadata": {}
        },
        {
          "name": "stdout",
          "output_type": "stream",
          "text": [
            "explain like I am 10 what is machine learning\n"
          ]
        },
        {
          "output_type": "display_data",
          "data": {
            "text/plain": [
              "\u001b[3;32m🕑 generated in \u001b[0m\u001b[1;3;32m0:01:17\u001b[0m\u001b[3;32m.\u001b[0m\u001b[1;3;32m239315\u001b[0m\n"
            ],
            "text/html": [
              "<pre style=\"white-space:pre;overflow-x:auto;line-height:normal;font-family:Menlo,'DejaVu Sans Mono',consolas,'Courier New',monospace\"><span style=\"color: #008000; text-decoration-color: #008000; font-style: italic\">🕑 generated in </span><span style=\"color: #008000; text-decoration-color: #008000; font-weight: bold; font-style: italic\">0:01:17</span><span style=\"color: #008000; text-decoration-color: #008000; font-style: italic\">.</span><span style=\"color: #008000; text-decoration-color: #008000; font-weight: bold; font-style: italic\">239315</span>\n",
              "</pre>\n"
            ]
          },
          "metadata": {}
        },
        {
          "output_type": "display_data",
          "data": {
            "text/plain": [
              "\u001b[1;38;5;27m🐳 Orca3b:  Machine learning is a type of artificial intelligence that allows computer systems to learn and improve\u001b[0m\n",
              "\u001b[1;38;5;27mon their own without being explicitly programmed. In other words, it's a way for computers to get better at tasks \u001b[0m\n",
              "\u001b[1;38;5;27mby analyzing data and identifying patterns on their own. This involves using algorithms and statistical models to \u001b[0m\n",
              "\u001b[1;38;5;27midentify patterns in large sets of data, which the machine can then use to make predictions or decisions. Machine \u001b[0m\n",
              "\u001b[1;38;5;27mlearning is used in many different applications, such as image recognition, natural language processing, fraud \u001b[0m\n",
              "\u001b[1;38;5;27mdetection, and recommendation systems. It's a rapidly growing field that continues to evolve and improve as more \u001b[0m\n",
              "\u001b[1;38;5;27mdata becomes available.\u001b[0m\n"
            ],
            "text/html": [
              "<pre style=\"white-space:pre;overflow-x:auto;line-height:normal;font-family:Menlo,'DejaVu Sans Mono',consolas,'Courier New',monospace\"><span style=\"color: #005fff; text-decoration-color: #005fff; font-weight: bold\">🐳 Orca3b:  Machine learning is a type of artificial intelligence that allows computer systems to learn and improve</span>\n",
              "<span style=\"color: #005fff; text-decoration-color: #005fff; font-weight: bold\">on their own without being explicitly programmed. In other words, it's a way for computers to get better at tasks </span>\n",
              "<span style=\"color: #005fff; text-decoration-color: #005fff; font-weight: bold\">by analyzing data and identifying patterns on their own. This involves using algorithms and statistical models to </span>\n",
              "<span style=\"color: #005fff; text-decoration-color: #005fff; font-weight: bold\">identify patterns in large sets of data, which the machine can then use to make predictions or decisions. Machine </span>\n",
              "<span style=\"color: #005fff; text-decoration-color: #005fff; font-weight: bold\">learning is used in many different applications, such as image recognition, natural language processing, fraud </span>\n",
              "<span style=\"color: #005fff; text-decoration-color: #005fff; font-weight: bold\">detection, and recommendation systems. It's a rapidly growing field that continues to evolve and improve as more </span>\n",
              "<span style=\"color: #005fff; text-decoration-color: #005fff; font-weight: bold\">data becomes available.</span>\n",
              "</pre>\n"
            ]
          },
          "metadata": {}
        }
      ]
    },
    {
      "cell_type": "code",
      "source": [
        "generated_text = generate()"
      ],
      "metadata": {
        "colab": {
          "base_uri": "https://localhost:8080/",
          "height": 159
        },
        "outputId": "f313be13-9844-4a61-d818-052bdbe99149",
        "id": "m9J_3uzsPqRb"
      },
      "execution_count": null,
      "outputs": [
        {
          "output_type": "display_data",
          "data": {
            "text/plain": [
              "\u001b[1;91m🗣 User: \u001b[0m"
            ],
            "text/html": [
              "<pre style=\"white-space:pre;overflow-x:auto;line-height:normal;font-family:Menlo,'DejaVu Sans Mono',consolas,'Courier New',monospace\"><span style=\"color: #ff0000; text-decoration-color: #ff0000; font-weight: bold\">🗣 User: </span></pre>\n"
            ]
          },
          "metadata": {}
        },
        {
          "name": "stdout",
          "output_type": "stream",
          "text": [
            "explain in simple terms what is python programming\n"
          ]
        },
        {
          "output_type": "display_data",
          "data": {
            "text/plain": [
              "\u001b[3;32m🕑 generated in \u001b[0m\u001b[1;3;32m0:01:10\u001b[0m\u001b[3;32m.\u001b[0m\u001b[1;3;32m478087\u001b[0m\n"
            ],
            "text/html": [
              "<pre style=\"white-space:pre;overflow-x:auto;line-height:normal;font-family:Menlo,'DejaVu Sans Mono',consolas,'Courier New',monospace\"><span style=\"color: #008000; text-decoration-color: #008000; font-style: italic\">🕑 generated in </span><span style=\"color: #008000; text-decoration-color: #008000; font-weight: bold; font-style: italic\">0:01:10</span><span style=\"color: #008000; text-decoration-color: #008000; font-style: italic\">.</span><span style=\"color: #008000; text-decoration-color: #008000; font-weight: bold; font-style: italic\">478087</span>\n",
              "</pre>\n"
            ]
          },
          "metadata": {}
        },
        {
          "output_type": "display_data",
          "data": {
            "text/plain": [
              "\u001b[1;38;5;27m🐳 Orca3b:  Python is a computer language that allows programmers to write code in a variety of ways, which can \u001b[0m\n",
              "\u001b[1;38;5;27mthen be executed by a computer. It's kind of like a special language that people use to tell computers what they \u001b[0m\n",
              "\u001b[1;38;5;27mwant them to do. Think of it like talking to a robot or a computer with a specific set of instructions. Python is \u001b[0m\n",
              "\u001b[1;38;5;27mvery versatile and can be used for many different things, such as creating games, building websites, and analyzing \u001b[0m\n",
              "\u001b[1;38;5;27mdata. It's also very user-friendly and has a lot of resources available online to help people learn how to use it!\u001b[0m\n"
            ],
            "text/html": [
              "<pre style=\"white-space:pre;overflow-x:auto;line-height:normal;font-family:Menlo,'DejaVu Sans Mono',consolas,'Courier New',monospace\"><span style=\"color: #005fff; text-decoration-color: #005fff; font-weight: bold\">🐳 Orca3b:  Python is a computer language that allows programmers to write code in a variety of ways, which can </span>\n",
              "<span style=\"color: #005fff; text-decoration-color: #005fff; font-weight: bold\">then be executed by a computer. It's kind of like a special language that people use to tell computers what they </span>\n",
              "<span style=\"color: #005fff; text-decoration-color: #005fff; font-weight: bold\">want them to do. Think of it like talking to a robot or a computer with a specific set of instructions. Python is </span>\n",
              "<span style=\"color: #005fff; text-decoration-color: #005fff; font-weight: bold\">very versatile and can be used for many different things, such as creating games, building websites, and analyzing </span>\n",
              "<span style=\"color: #005fff; text-decoration-color: #005fff; font-weight: bold\">data. It's also very user-friendly and has a lot of resources available online to help people learn how to use it!</span>\n",
              "</pre>\n"
            ]
          },
          "metadata": {}
        }
      ]
    },
    {
      "cell_type": "code",
      "source": [],
      "metadata": {
        "id": "NB7eaHYuPjH2"
      },
      "execution_count": null,
      "outputs": []
    },
    {
      "cell_type": "code",
      "source": [],
      "metadata": {
        "id": "lYCh2KQTPjET"
      },
      "execution_count": null,
      "outputs": []
    }
  ]
}